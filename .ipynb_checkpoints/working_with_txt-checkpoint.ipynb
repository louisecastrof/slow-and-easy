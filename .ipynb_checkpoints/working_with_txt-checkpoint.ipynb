{
 "cells": [
  {
   "cell_type": "markdown",
   "id": "f2136e0d-a8f2-4a9d-94ac-687fbbf1805d",
   "metadata": {
    "tags": []
   },
   "source": [
    "## Imports"
   ]
  },
  {
   "cell_type": "code",
   "execution_count": 13,
   "id": "da5ae5df-8c13-45ac-9dc0-2f51783f4c39",
   "metadata": {},
   "outputs": [],
   "source": [
    "# import os\n",
    "import pandas as pd"
   ]
  },
  {
   "cell_type": "code",
   "execution_count": 2,
   "id": "d0e56a74-deef-4389-88fa-8ab5aa8a1ae9",
   "metadata": {},
   "outputs": [],
   "source": [
    "# os.remove(\"data/female_users.txt\")"
   ]
  },
  {
   "cell_type": "markdown",
   "id": "0b254f5c-f4bb-4c04-ab0f-3c49c917bf3d",
   "metadata": {
    "jp-MarkdownHeadingCollapsed": true,
    "tags": []
   },
   "source": [
    "## Reading files with python"
   ]
  },
  {
   "cell_type": "code",
   "execution_count": 27,
   "id": "427f8268-b4e2-4166-a75c-112e77debe80",
   "metadata": {},
   "outputs": [
    {
     "name": "stdout",
     "output_type": "stream",
     "text": [
      "aaaaaaaabbbbbbbbbbbbbbbbbb\n"
     ]
    }
   ],
   "source": [
    "with open(\"C:\\\\Users\\\\Jessi\\\\Desktop\\\\slow-and-easy\\\\files\\\\recipe.txt\", \"r\") as recipe:\n",
    "    # recipe.write(\"bbbbbbbbb\")\n",
    "    print(recipe.read())\n",
    "    recipe.close()"
   ]
  },
  {
   "cell_type": "markdown",
   "id": "40400e32-e775-4e46-ab48-56dcac6afe19",
   "metadata": {
    "jp-MarkdownHeadingCollapsed": true,
    "tags": []
   },
   "source": [
    "## Reading python files dynamically"
   ]
  },
  {
   "cell_type": "code",
   "execution_count": 21,
   "id": "7dc40433-7e32-4715-83e9-ed8b9ee0301a",
   "metadata": {},
   "outputs": [],
   "source": [
    "recipe = open(\"C:\\\\Users\\\\Jessi\\\\Desktop\\\\slow-and-easy\\\\files\\\\recipe.txt\", \"r\")"
   ]
  },
  {
   "cell_type": "code",
   "execution_count": 22,
   "id": "de81c9e3-75c8-4993-aef5-ecce21b2abc1",
   "metadata": {},
   "outputs": [
    {
     "data": {
      "text/plain": [
       "'aaaaaaaabbbbbbbbbbbbbbbbbb'"
      ]
     },
     "execution_count": 22,
     "metadata": {},
     "output_type": "execute_result"
    }
   ],
   "source": [
    "recipe.read()"
   ]
  },
  {
   "cell_type": "code",
   "execution_count": 23,
   "id": "98eaba5b-3820-45a0-8ff2-01fee9aab00a",
   "metadata": {},
   "outputs": [],
   "source": [
    "recipe.close()"
   ]
  },
  {
   "cell_type": "markdown",
   "id": "b61c6099-eae1-4d06-a93f-c52f845587e1",
   "metadata": {
    "tags": []
   },
   "source": [
    "## Working with pandas"
   ]
  },
  {
   "cell_type": "markdown",
   "id": "c15443d8-9a43-4a31-8080-74e446e9a481",
   "metadata": {
    "tags": []
   },
   "source": [
    "### Creating target "
   ]
  },
  {
   "cell_type": "code",
   "execution_count": 6,
   "id": "3ad5d2f6-a4ac-402e-9e03-9df46d4f40db",
   "metadata": {},
   "outputs": [],
   "source": [
    "female_users = open(\"data/female_users.txt\", \"w\")"
   ]
  },
  {
   "cell_type": "code",
   "execution_count": 9,
   "id": "c9d6b652-8585-4660-bfe9-88c38f3cb352",
   "metadata": {},
   "outputs": [],
   "source": [
    "female_users.close()"
   ]
  },
  {
   "cell_type": "markdown",
   "id": "b17c7305-7224-4200-8420-c6ae2aa87b63",
   "metadata": {},
   "source": [
    "### Getting data"
   ]
  },
  {
   "cell_type": "code",
   "execution_count": 18,
   "id": "a02d935a-8321-4eb1-bfd6-6b574d4d5c6b",
   "metadata": {},
   "outputs": [],
   "source": [
    "df = pd.read_json(\"C:\\\\Users\\\\Jessi\\\\Desktop\\\\slow-and-easy\\\\files\\\\users_s.json\")"
   ]
  },
  {
   "cell_type": "code",
   "execution_count": 19,
   "id": "df625fb8-c3b5-46e1-8a27-3388608ccbae",
   "metadata": {},
   "outputs": [
    {
     "data": {
      "text/html": [
       "<div>\n",
       "<style scoped>\n",
       "    .dataframe tbody tr th:only-of-type {\n",
       "        vertical-align: middle;\n",
       "    }\n",
       "\n",
       "    .dataframe tbody tr th {\n",
       "        vertical-align: top;\n",
       "    }\n",
       "\n",
       "    .dataframe thead th {\n",
       "        text-align: right;\n",
       "    }\n",
       "</style>\n",
       "<table border=\"1\" class=\"dataframe\">\n",
       "  <thead>\n",
       "    <tr style=\"text-align: right;\">\n",
       "      <th></th>\n",
       "      <th>_id</th>\n",
       "      <th>index</th>\n",
       "      <th>guid</th>\n",
       "      <th>isActive</th>\n",
       "      <th>balance</th>\n",
       "      <th>picture</th>\n",
       "      <th>age</th>\n",
       "      <th>eyeColor</th>\n",
       "      <th>name</th>\n",
       "      <th>gender</th>\n",
       "      <th>company</th>\n",
       "      <th>email</th>\n",
       "      <th>phone</th>\n",
       "      <th>address</th>\n",
       "      <th>about</th>\n",
       "    </tr>\n",
       "  </thead>\n",
       "  <tbody>\n",
       "    <tr>\n",
       "      <th>0</th>\n",
       "      <td>620442d3fa2449999e2cdd2b</td>\n",
       "      <td>0</td>\n",
       "      <td>adc35165-9601-4619-8382-416839bbee06</td>\n",
       "      <td>True</td>\n",
       "      <td>$3,319.50</td>\n",
       "      <td>http://placehold.it/32x32</td>\n",
       "      <td>24</td>\n",
       "      <td>brown</td>\n",
       "      <td>Barbra Henson</td>\n",
       "      <td>female</td>\n",
       "      <td>LUXURIA</td>\n",
       "      <td>barbrahenson@luxuria.com</td>\n",
       "      <td>+1 (850) 459-2422</td>\n",
       "      <td>557 Elliott Place, Aurora, Kansas, 1336</td>\n",
       "      <td>Nisi elit adipisicing eu nisi non. Dolor conse...</td>\n",
       "    </tr>\n",
       "    <tr>\n",
       "      <th>1</th>\n",
       "      <td>620442d3f16d741d66d7d061</td>\n",
       "      <td>1</td>\n",
       "      <td>9192946f-8ad7-4cc2-815a-a4ed7d5ec79c</td>\n",
       "      <td>False</td>\n",
       "      <td>$2,311.41</td>\n",
       "      <td>http://placehold.it/32x32</td>\n",
       "      <td>21</td>\n",
       "      <td>blue</td>\n",
       "      <td>Terra Kinney</td>\n",
       "      <td>female</td>\n",
       "      <td>CEMENTION</td>\n",
       "      <td>terrakinney@cemention.com</td>\n",
       "      <td>+1 (962) 573-3665</td>\n",
       "      <td>389 Clifford Place, Riviera, Utah, 7872</td>\n",
       "      <td>Fugiat cupidatat laboris esse excepteur in in ...</td>\n",
       "    </tr>\n",
       "    <tr>\n",
       "      <th>2</th>\n",
       "      <td>620442d3bb419cf63736b19d</td>\n",
       "      <td>2</td>\n",
       "      <td>5fde655d-e34a-4d42-b7df-a25cd839ad6c</td>\n",
       "      <td>True</td>\n",
       "      <td>$3,905.69</td>\n",
       "      <td>http://placehold.it/32x32</td>\n",
       "      <td>21</td>\n",
       "      <td>green</td>\n",
       "      <td>Michelle Gaines</td>\n",
       "      <td>female</td>\n",
       "      <td>MENBRAIN</td>\n",
       "      <td>michellegaines@menbrain.com</td>\n",
       "      <td>+1 (951) 551-3445</td>\n",
       "      <td>987 Porter Avenue, Hatteras, Washington, 878</td>\n",
       "      <td>In ad sunt cupidatat irure sint nulla. Reprehe...</td>\n",
       "    </tr>\n",
       "    <tr>\n",
       "      <th>3</th>\n",
       "      <td>620442d3fc519b9baf32402b</td>\n",
       "      <td>3</td>\n",
       "      <td>f21bc363-6096-44df-9978-9d8faf2bbc4f</td>\n",
       "      <td>True</td>\n",
       "      <td>$2,419.95</td>\n",
       "      <td>http://placehold.it/32x32</td>\n",
       "      <td>37</td>\n",
       "      <td>green</td>\n",
       "      <td>Cooke Jackson</td>\n",
       "      <td>male</td>\n",
       "      <td>ELECTONIC</td>\n",
       "      <td>cookejackson@electonic.com</td>\n",
       "      <td>+1 (861) 405-3760</td>\n",
       "      <td>760 Elm Place, Nicut, Louisiana, 5420</td>\n",
       "      <td>Ipsum commodo quis tempor enim cillum sint vel...</td>\n",
       "    </tr>\n",
       "    <tr>\n",
       "      <th>4</th>\n",
       "      <td>620442d316707f1113a58ab0</td>\n",
       "      <td>4</td>\n",
       "      <td>7ea5307c-6b5e-4b6f-9e24-a43279449071</td>\n",
       "      <td>False</td>\n",
       "      <td>$2,801.13</td>\n",
       "      <td>http://placehold.it/32x32</td>\n",
       "      <td>26</td>\n",
       "      <td>blue</td>\n",
       "      <td>Melton Leblanc</td>\n",
       "      <td>male</td>\n",
       "      <td>ETERNIS</td>\n",
       "      <td>meltonleblanc@eternis.com</td>\n",
       "      <td>+1 (916) 485-2858</td>\n",
       "      <td>728 Highland Avenue, Hiseville, Montana, 8092</td>\n",
       "      <td>Anim nostrud ut reprehenderit laborum quis con...</td>\n",
       "    </tr>\n",
       "    <tr>\n",
       "      <th>5</th>\n",
       "      <td>620442d3e7a0c69d1eabbac5</td>\n",
       "      <td>5</td>\n",
       "      <td>21a70d4b-88db-4cfc-991e-c5f4c4225fce</td>\n",
       "      <td>False</td>\n",
       "      <td>$2,561.68</td>\n",
       "      <td>http://placehold.it/32x32</td>\n",
       "      <td>23</td>\n",
       "      <td>blue</td>\n",
       "      <td>Reba Simon</td>\n",
       "      <td>female</td>\n",
       "      <td>TURNABOUT</td>\n",
       "      <td>rebasimon@turnabout.com</td>\n",
       "      <td>+1 (821) 482-2942</td>\n",
       "      <td>181 Lincoln Avenue, Konterra, New Mexico, 3949</td>\n",
       "      <td>Magna ad eu aute ea duis esse officia dolore d...</td>\n",
       "    </tr>\n",
       "    <tr>\n",
       "      <th>6</th>\n",
       "      <td>620442d3c166b3cd6b7d2412</td>\n",
       "      <td>6</td>\n",
       "      <td>c6c34794-fb45-40a4-b477-d2d6ca3e40e3</td>\n",
       "      <td>False</td>\n",
       "      <td>$3,862.91</td>\n",
       "      <td>http://placehold.it/32x32</td>\n",
       "      <td>26</td>\n",
       "      <td>brown</td>\n",
       "      <td>Betsy Holder</td>\n",
       "      <td>female</td>\n",
       "      <td>PLASTO</td>\n",
       "      <td>betsyholder@plasto.com</td>\n",
       "      <td>+1 (863) 418-2568</td>\n",
       "      <td>289 Bassett Avenue, Mulberry, Maine, 6611</td>\n",
       "      <td>Occaecat officia consequat deserunt excepteur ...</td>\n",
       "    </tr>\n",
       "    <tr>\n",
       "      <th>7</th>\n",
       "      <td>620442d35d2ff121e7628755</td>\n",
       "      <td>7</td>\n",
       "      <td>fa16a835-5744-43a3-8e7b-65115c373cb0</td>\n",
       "      <td>True</td>\n",
       "      <td>$2,402.21</td>\n",
       "      <td>http://placehold.it/32x32</td>\n",
       "      <td>40</td>\n",
       "      <td>brown</td>\n",
       "      <td>Perez Romero</td>\n",
       "      <td>male</td>\n",
       "      <td>SULFAX</td>\n",
       "      <td>perezromero@sulfax.com</td>\n",
       "      <td>+1 (935) 553-2933</td>\n",
       "      <td>868 Vanderveer Place, Jackpot, Maryland, 7122</td>\n",
       "      <td>Mollit deserunt aute aute excepteur officia. E...</td>\n",
       "    </tr>\n",
       "  </tbody>\n",
       "</table>\n",
       "</div>"
      ],
      "text/plain": [
       "                        _id  index                                  guid  \\\n",
       "0  620442d3fa2449999e2cdd2b      0  adc35165-9601-4619-8382-416839bbee06   \n",
       "1  620442d3f16d741d66d7d061      1  9192946f-8ad7-4cc2-815a-a4ed7d5ec79c   \n",
       "2  620442d3bb419cf63736b19d      2  5fde655d-e34a-4d42-b7df-a25cd839ad6c   \n",
       "3  620442d3fc519b9baf32402b      3  f21bc363-6096-44df-9978-9d8faf2bbc4f   \n",
       "4  620442d316707f1113a58ab0      4  7ea5307c-6b5e-4b6f-9e24-a43279449071   \n",
       "5  620442d3e7a0c69d1eabbac5      5  21a70d4b-88db-4cfc-991e-c5f4c4225fce   \n",
       "6  620442d3c166b3cd6b7d2412      6  c6c34794-fb45-40a4-b477-d2d6ca3e40e3   \n",
       "7  620442d35d2ff121e7628755      7  fa16a835-5744-43a3-8e7b-65115c373cb0   \n",
       "\n",
       "   isActive    balance                    picture  age eyeColor  \\\n",
       "0      True  $3,319.50  http://placehold.it/32x32   24    brown   \n",
       "1     False  $2,311.41  http://placehold.it/32x32   21     blue   \n",
       "2      True  $3,905.69  http://placehold.it/32x32   21    green   \n",
       "3      True  $2,419.95  http://placehold.it/32x32   37    green   \n",
       "4     False  $2,801.13  http://placehold.it/32x32   26     blue   \n",
       "5     False  $2,561.68  http://placehold.it/32x32   23     blue   \n",
       "6     False  $3,862.91  http://placehold.it/32x32   26    brown   \n",
       "7      True  $2,402.21  http://placehold.it/32x32   40    brown   \n",
       "\n",
       "              name  gender    company                        email  \\\n",
       "0    Barbra Henson  female    LUXURIA     barbrahenson@luxuria.com   \n",
       "1     Terra Kinney  female  CEMENTION    terrakinney@cemention.com   \n",
       "2  Michelle Gaines  female   MENBRAIN  michellegaines@menbrain.com   \n",
       "3    Cooke Jackson    male  ELECTONIC   cookejackson@electonic.com   \n",
       "4   Melton Leblanc    male    ETERNIS    meltonleblanc@eternis.com   \n",
       "5       Reba Simon  female  TURNABOUT      rebasimon@turnabout.com   \n",
       "6     Betsy Holder  female     PLASTO       betsyholder@plasto.com   \n",
       "7     Perez Romero    male     SULFAX       perezromero@sulfax.com   \n",
       "\n",
       "               phone                                         address  \\\n",
       "0  +1 (850) 459-2422         557 Elliott Place, Aurora, Kansas, 1336   \n",
       "1  +1 (962) 573-3665         389 Clifford Place, Riviera, Utah, 7872   \n",
       "2  +1 (951) 551-3445    987 Porter Avenue, Hatteras, Washington, 878   \n",
       "3  +1 (861) 405-3760           760 Elm Place, Nicut, Louisiana, 5420   \n",
       "4  +1 (916) 485-2858   728 Highland Avenue, Hiseville, Montana, 8092   \n",
       "5  +1 (821) 482-2942  181 Lincoln Avenue, Konterra, New Mexico, 3949   \n",
       "6  +1 (863) 418-2568       289 Bassett Avenue, Mulberry, Maine, 6611   \n",
       "7  +1 (935) 553-2933   868 Vanderveer Place, Jackpot, Maryland, 7122   \n",
       "\n",
       "                                               about  \n",
       "0  Nisi elit adipisicing eu nisi non. Dolor conse...  \n",
       "1  Fugiat cupidatat laboris esse excepteur in in ...  \n",
       "2  In ad sunt cupidatat irure sint nulla. Reprehe...  \n",
       "3  Ipsum commodo quis tempor enim cillum sint vel...  \n",
       "4  Anim nostrud ut reprehenderit laborum quis con...  \n",
       "5  Magna ad eu aute ea duis esse officia dolore d...  \n",
       "6  Occaecat officia consequat deserunt excepteur ...  \n",
       "7  Mollit deserunt aute aute excepteur officia. E...  "
      ]
     },
     "execution_count": 19,
     "metadata": {},
     "output_type": "execute_result"
    }
   ],
   "source": [
    "df"
   ]
  },
  {
   "cell_type": "markdown",
   "id": "4777ebf3-ffe8-4e60-9365-83cf96011695",
   "metadata": {},
   "source": [
    "### Transforming data"
   ]
  },
  {
   "cell_type": "markdown",
   "id": "57af8fc3-ca94-4fce-ac15-56c88b497000",
   "metadata": {},
   "source": [
    "### Kicking data's butt :)"
   ]
  }
 ],
 "metadata": {
  "kernelspec": {
   "display_name": "Python 3 (ipykernel)",
   "language": "python",
   "name": "python3"
  },
  "language_info": {
   "codemirror_mode": {
    "name": "ipython",
    "version": 3
   },
   "file_extension": ".py",
   "mimetype": "text/x-python",
   "name": "python",
   "nbconvert_exporter": "python",
   "pygments_lexer": "ipython3",
   "version": "3.9.7"
  }
 },
 "nbformat": 4,
 "nbformat_minor": 5
}
